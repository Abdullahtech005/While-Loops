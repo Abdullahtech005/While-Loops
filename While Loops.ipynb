{
 "cells": [
  {
   "cell_type": "code",
   "execution_count": null,
   "id": "e3e6ed46-aeea-4be6-b2cf-33f4019731c1",
   "metadata": {},
   "outputs": [],
   "source": [
    "# Muhammad Abdullah\n",
    "# FA24-BBD-107"
   ]
  },
  {
   "cell_type": "code",
   "execution_count": 3,
   "id": "ae2f69e6-203d-407b-a4d7-1869ffd32a85",
   "metadata": {},
   "outputs": [
    {
     "name": "stdout",
     "output_type": "stream",
     "text": [
      "1\n",
      "2\n",
      "3\n",
      "4\n",
      "5\n",
      "6\n",
      "7\n",
      "8\n",
      "9\n",
      "10\n"
     ]
    }
   ],
   "source": [
    "# Q 1\n",
    "\n",
    "i = 1\n",
    "while i <= 10:\n",
    "    print(i)  \n",
    "    i += 1     \n"
   ]
  },
  {
   "cell_type": "code",
   "execution_count": 5,
   "id": "1088e7bd-ebdc-4360-ac05-d3c3b2aefadf",
   "metadata": {},
   "outputs": [
    {
     "name": "stdout",
     "output_type": "stream",
     "text": [
      "2\n",
      "4\n",
      "6\n",
      "8\n",
      "10\n",
      "12\n",
      "14\n",
      "16\n",
      "18\n",
      "20\n"
     ]
    }
   ],
   "source": [
    "# Q 2\n",
    "\n",
    "num = 2\n",
    "while num <= 20:\n",
    "    print(num)\n",
    "    num += 2\n"
   ]
  },
  {
   "cell_type": "code",
   "execution_count": 7,
   "id": "3e87ff87-2755-4326-97ba-4a5f5649603e",
   "metadata": {},
   "outputs": [
    {
     "name": "stdout",
     "output_type": "stream",
     "text": [
      "The sum of first 10 natural numbers is: 55\n"
     ]
    }
   ],
   "source": [
    "# Q 3\n",
    "\n",
    "a = 1\n",
    "sum = 0\n",
    "\n",
    "while a <= 10:\n",
    "    sum += a \n",
    "    a += 1  \n",
    "print(\"The sum of first 10 natural numbers is:\", sum)\n"
   ]
  },
  {
   "cell_type": "code",
   "execution_count": 1,
   "id": "7e05d600-ed97-4dac-938c-6a2f3a21b991",
   "metadata": {},
   "outputs": [
    {
     "name": "stdin",
     "output_type": "stream",
     "text": [
      "Enter a number (or a negative number to stop):  42\n",
      "Enter a number (or a negative number to stop):  39\n",
      "Enter a number (or a negative number to stop):  87\n",
      "Enter a number (or a negative number to stop):  -1\n"
     ]
    },
    {
     "name": "stdout",
     "output_type": "stream",
     "text": [
      "The total sum of the numbers entered is: 168.0\n"
     ]
    }
   ],
   "source": [
    "# Q 4\n",
    "\n",
    "sum = 0\n",
    "\n",
    "while True:\n",
    "  \n",
    "    number = float(input(\"Enter a number (or a negative number to stop): \"))\n",
    "    \n",
    "    if number < 0:\n",
    "        break\n",
    "        \n",
    "    sum += number\n",
    "\n",
    "print(\"The total sum of the numbers entered is:\", sum)\n"
   ]
  },
  {
   "cell_type": "code",
   "execution_count": 1,
   "id": "28661239-8b2c-4f4f-85d7-fa619109a5af",
   "metadata": {},
   "outputs": [
    {
     "name": "stdin",
     "output_type": "stream",
     "text": [
      "Guess number between 1 and 100: 15\n"
     ]
    },
    {
     "name": "stdout",
     "output_type": "stream",
     "text": [
      "Too Low!\n"
     ]
    },
    {
     "name": "stdin",
     "output_type": "stream",
     "text": [
      "Guess number between 1 and 100: 68\n"
     ]
    },
    {
     "name": "stdout",
     "output_type": "stream",
     "text": [
      "Too High!\n"
     ]
    },
    {
     "name": "stdin",
     "output_type": "stream",
     "text": [
      "Guess number between 1 and 100: 35\n"
     ]
    },
    {
     "name": "stdout",
     "output_type": "stream",
     "text": [
      "Congratulations! You guessed it right.\n"
     ]
    }
   ],
   "source": [
    "# Q 5\n",
    "\n",
    "number = 35\n",
    "guess = 0\n",
    "while guess != number:\n",
    "    guess = int(input(\"Guess number between 1 and 100:\"))\n",
    "    if guess < number:\n",
    "        print(\"Too Low!\")\n",
    "    elif guess > number:\n",
    "        print(\"Too High!\")\n",
    "    else:\n",
    "        print(\"Congratulations! You guessed it right.\")"
   ]
  },
  {
   "cell_type": "code",
   "execution_count": 3,
   "id": "d707764b-3914-4ff6-b32b-264434d849d1",
   "metadata": {},
   "outputs": [
    {
     "name": "stdin",
     "output_type": "stream",
     "text": [
      "Enter a positive integer:  5\n"
     ]
    },
    {
     "name": "stdout",
     "output_type": "stream",
     "text": [
      "The factorial is: 120\n"
     ]
    }
   ],
   "source": [
    "# Q 6\n",
    "\n",
    "n = int(input(\"Enter a positive integer: \"))\n",
    "factorial = 1\n",
    "\n",
    "if n < 0:\n",
    "    print(\"Factorial is not defined for negative numbers.\")\n",
    "else:\n",
    "    while n > 1:\n",
    "        factorial *= n\n",
    "        n -= 1  \n",
    "    print(\"The factorial is:\", factorial)\n"
   ]
  },
  {
   "cell_type": "code",
   "execution_count": 5,
   "id": "66cc5388-4b27-44b9-85e4-b68f57732a26",
   "metadata": {},
   "outputs": [
    {
     "name": "stdin",
     "output_type": "stream",
     "text": [
      "Enter a number or ('done' to stop) 35\n",
      "Enter a number or ('done' to stop) 14\n",
      "Enter a number or ('done' to stop) 78\n",
      "Enter a number or ('done' to stop) done\n"
     ]
    },
    {
     "name": "stdout",
     "output_type": "stream",
     "text": [
      "The average is 42.333333333333336\n"
     ]
    }
   ],
   "source": [
    "# Q 7\n",
    "\n",
    "total = 0\n",
    "count = 0\n",
    "while True:\n",
    "    num = input(\"Enter a number or ('done' to stop)\")\n",
    "    if num.lower() == \"done\":\n",
    "        break\n",
    "    total += float(num)\n",
    "    count += 1\n",
    "    average = total / count\n",
    "print(\"The average is\", average)"
   ]
  },
  {
   "cell_type": "code",
   "execution_count": 9,
   "id": "5b4dba8f-a770-4031-b107-e42c0c726eb8",
   "metadata": {},
   "outputs": [
    {
     "name": "stdin",
     "output_type": "stream",
     "text": [
      "Enter a number: 15\n"
     ]
    },
    {
     "name": "stdout",
     "output_type": "stream",
     "text": [
      "Fibonacci sequence up to 15 :\n",
      "0 1 1 2 3 5 8 13 "
     ]
    }
   ],
   "source": [
    "# Q 8\n",
    "\n",
    "n = int(input(\"Enter a number:\"))\n",
    "a, b = 0, 1\n",
    "\n",
    "print(\"Fibonacci sequence up to\", n, \":\")\n",
    "while a <= n:\n",
    "    print(a, end=\" \")\n",
    "    a, b = b, a + b\n"
   ]
  },
  {
   "cell_type": "code",
   "execution_count": null,
   "id": "a6cb7c6d-c8e6-4963-907d-4f97421de36d",
   "metadata": {},
   "outputs": [],
   "source": []
  }
 ],
 "metadata": {
  "kernelspec": {
   "display_name": "Python 3 (ipykernel)",
   "language": "python",
   "name": "python3"
  },
  "language_info": {
   "codemirror_mode": {
    "name": "ipython",
    "version": 3
   },
   "file_extension": ".py",
   "mimetype": "text/x-python",
   "name": "python",
   "nbconvert_exporter": "python",
   "pygments_lexer": "ipython3",
   "version": "3.12.4"
  }
 },
 "nbformat": 4,
 "nbformat_minor": 5
}
